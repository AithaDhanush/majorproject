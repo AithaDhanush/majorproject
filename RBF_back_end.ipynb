{
  "nbformat": 4,
  "nbformat_minor": 0,
  "metadata": {
    "colab": {
      "provenance": [],
      "authorship_tag": "ABX9TyOIHQBk81WV6ayLilezU159",
      "include_colab_link": true
    },
    "kernelspec": {
      "name": "python3",
      "display_name": "Python 3"
    },
    "language_info": {
      "name": "python"
    }
  },
  "cells": [
    {
      "cell_type": "markdown",
      "metadata": {
        "id": "view-in-github",
        "colab_type": "text"
      },
      "source": [
        "<a href=\"https://colab.research.google.com/github/AithaDhanush/majorproject/blob/main/RBF_back_end.ipynb\" target=\"_parent\"><img src=\"https://colab.research.google.com/assets/colab-badge.svg\" alt=\"Open In Colab\"/></a>"
      ]
    },
    {
      "cell_type": "code",
      "execution_count": 1,
      "metadata": {
        "colab": {
          "base_uri": "https://localhost:8080/",
          "height": 373
        },
        "id": "zPj-ZeKT_MXg",
        "outputId": "5d6ee374-85cf-4a77-f19d-bd730c303f0e"
      },
      "outputs": [
        {
          "output_type": "error",
          "ename": "ModuleNotFoundError",
          "evalue": "ignored",
          "traceback": [
            "\u001b[0;31m---------------------------------------------------------------------------\u001b[0m",
            "\u001b[0;31mModuleNotFoundError\u001b[0m                       Traceback (most recent call last)",
            "\u001b[0;32m<ipython-input-1-6bd939912a06>\u001b[0m in \u001b[0;36m<cell line: 5>\u001b[0;34m()\u001b[0m\n\u001b[1;32m      3\u001b[0m \u001b[0;32mimport\u001b[0m \u001b[0mnumpy\u001b[0m \u001b[0;32mas\u001b[0m \u001b[0mnp\u001b[0m\u001b[0;34m\u001b[0m\u001b[0;34m\u001b[0m\u001b[0m\n\u001b[1;32m      4\u001b[0m \u001b[0;32mimport\u001b[0m \u001b[0mtensorflow\u001b[0m \u001b[0;32mas\u001b[0m \u001b[0mtf\u001b[0m\u001b[0;34m\u001b[0m\u001b[0;34m\u001b[0m\u001b[0m\n\u001b[0;32m----> 5\u001b[0;31m \u001b[0;32mimport\u001b[0m \u001b[0mwandb\u001b[0m\u001b[0;34m\u001b[0m\u001b[0;34m\u001b[0m\u001b[0m\n\u001b[0m\u001b[1;32m      6\u001b[0m \u001b[0;32mfrom\u001b[0m \u001b[0mwandb\u001b[0m\u001b[0;34m.\u001b[0m\u001b[0mkeras\u001b[0m \u001b[0;32mimport\u001b[0m \u001b[0mWandbMetricsLogger\u001b[0m\u001b[0;34m\u001b[0m\u001b[0;34m\u001b[0m\u001b[0m\n\u001b[1;32m      7\u001b[0m \u001b[0;34m\u001b[0m\u001b[0m\n",
            "\u001b[0;31mModuleNotFoundError\u001b[0m: No module named 'wandb'",
            "",
            "\u001b[0;31m---------------------------------------------------------------------------\u001b[0;32m\nNOTE: If your import is failing due to a missing package, you can\nmanually install dependencies using either !pip or !apt.\n\nTo view examples of installing some common dependencies, click the\n\"Open Examples\" button below.\n\u001b[0;31m---------------------------------------------------------------------------\u001b[0m\n"
          ],
          "errorDetails": {
            "actions": [
              {
                "action": "open_url",
                "actionText": "Open Examples",
                "url": "/notebooks/snippets/importing_libraries.ipynb"
              }
            ]
          }
        }
      ],
      "source": [
        "from sklearn.cluster import KMeans\n",
        "import joblib as jbl\n",
        "import numpy as np\n",
        "import tensorflow as tf\n",
        "\n",
        "tf.random.set_seed(42)\n",
        "np.random.seed(42)\n",
        "tf.keras.utils.set_random_seed(42)\n",
        "tf.config.experimental.enable_op_determinism()\n",
        "\n",
        "class RBFNet:\n",
        "    \n",
        "    \"\"\"\n",
        "    Implementation of Radial Basis Function Neural Networks (from input to hidden layer)\n",
        "    \"\"\"\n",
        "\n",
        "    def __init__(self, X, y, X_test, y_test, n_hidden_neurons, width_factor) -> None:\n",
        "        self.X = X\n",
        "        self.y = y\n",
        "        self.X_test = X_test\n",
        "        self.y_test = y_test\n",
        "        self.n_hidden = n_hidden_neurons\n",
        "        self.p = width_factor\n",
        "        \n",
        "        self._centroids = None\n",
        "        self._sigma_mat = None\n",
        "        self._out_mat = None\n",
        "        self._out_mat_test = None\n",
        "        self._distance_mat = None\n",
        "        \n",
        "    def KMeans(self):\n",
        "        km = KMeans(n_clusters=self.n_hidden).fit(self.X, self.y)\n",
        "        self._centroids = km.cluster_centers_\n",
        "        \n",
        "    def gaussian_rbf(self):\n",
        "        \n",
        "        def get_min_indices(x, n=2):\n",
        "            min_values = np.sort(x)[:n]\n",
        "            return np.array([np.where(x == i)[0][0] for i in min_values])\n",
        "        \n",
        "        distance_mat = np.zeros((self.n_hidden, self.n_hidden))\n",
        "        sigma_mat = np.zeros(self.n_hidden)\n",
        "        \n",
        "        # distance matrix calculation\n",
        "        for i in range(self.n_hidden):\n",
        "            for j in range(self.n_hidden):\n",
        "                distance_mat[i][j] = np.linalg.norm(self._centroids[i] - self._centroids[j])\n",
        "                distance_mat[j][i] = distance_mat[i][j]\n",
        "        \n",
        "        self._distance_mat = distance_mat\n",
        "           \n",
        "        # calculating sigma matrix\n",
        "        for i in range(self.n_hidden):\n",
        "            x = distance_mat[i]\n",
        "            min_indices = get_min_indices(x, self.p)\n",
        "            \n",
        "            ED_array = np.zeros(self.p-1)\n",
        "            \n",
        "            for j in range(len(ED_array)):\n",
        "                ED_array[j] = np.linalg.norm(self._centroids[i] - self._centroids[min_indices[j+1]])\n",
        "            sigma_mat[i] = np.sqrt(np.square(ED_array).sum() / self.p)\n",
        "            \n",
        "        self._sigma_mat = sigma_mat\n",
        "        self._out_mat = self.out_matrix(self.X, self.n_hidden, self._centroids, self._sigma_mat)\n",
        "        self._out_mat_test = self.out_matrix(self.X_test, self.n_hidden, self._centroids, self._sigma_mat)\n",
        "                \n",
        "    def out_matrix(self, X, n_hidden, centroids, sigma_mat):\n",
        "        out_mat = np.zeros((X.shape[0], n_hidden))\n",
        "        for i in range(len(X)):\n",
        "            for j in range(n_hidden):\n",
        "                numerator = -np.square(X[i] - centroids[j]).sum()\n",
        "                denominator = 2*(np.square(sigma_mat[j]))\n",
        "                out_mat[i][j] = np.exp(numerator/denominator)\n",
        "        return out_mat\n",
        "    \n",
        "    \n",
        "class RBFNN(RBFNet):\n",
        "    \n",
        "    \"\"\"\n",
        "    Implementation of Radial Basis Function Neural Networks (hidden layer to output)\n",
        "    \"\"\"\n",
        "    \n",
        "    def __init__(self, X, y, X_test, y_test, n_hidden_neurons, width_factor, activation=\"linear\"):\n",
        "        super().__init__(X, y, X_test, y_test, n_hidden_neurons, width_factor)\n",
        "        self.history = None\n",
        "        \n",
        "        self.model = tf.keras.Sequential([\n",
        "            tf.keras.layers.Dense(13, input_shape=(self.n_hidden, ), activation=activation)\n",
        "        ])\n",
        "        \n",
        "    def summary(self):\n",
        "        return self.model.summary()\n",
        "        \n",
        "    def fit(self, epochs=100, batch_size=32, optim=tf.optimizers.Adam, lr=0.1, loss_fn=tf.losses.MeanSquaredError, metrics=['mae']):\n",
        "        \n",
        "        self.KMeans()\n",
        "        self.gaussian_rbf()\n",
        "        self.model.compile(optim(learning_rate=lr), loss=loss_fn(), metrics=metrics)\n",
        "        self.history = self.model.fit(x=self._out_mat, y=self.y, validation_data=(self._out_mat_test, self.y_test), epochs=epochs, batch_size=batch_size, callbacks=[WandbMetricsLogger()])\n",
        "        \n",
        "        self.model.save(f\"RBF_ANN_model_bs_{batch_size}_N_{self.n_hidden}_P_{self.p}.h5\")\n",
        "        export_metadata = {\n",
        "            \"neurons\" : self.n_hidden,\n",
        "            \"centers\" : self._centroids,\n",
        "            \"sigma\" : self._sigma_mat,\n",
        "            \"batch_size\" : batch_size,\n",
        "            \"lr\" : lr,\n",
        "            \"loss_fn\" : loss_fn\n",
        "        }\n",
        "\n",
        "        jbl.dump(export_metadata, f\"Metadata_N_{self.n_hidden}_P_{self.p}_bs_{batch_size}.jbl\")\n",
        "        \n",
        "    def predict(self, X:np.ndarray, rbf_file:str=None, rbf_ann_file:str=None):\n",
        "        if (rbf_ann_file == None or rbf_file == None):\n",
        "            centers = self._centroids\n",
        "            sigma = self._sigma_mat\n",
        "            out_mat = self.out_matrix(X=X, n_hidden=self.n_hidden, centroids=centers, sigma_mat=sigma)[-1].reshape((1, self.n_hidden))\n",
        "            return self.model.predict(out_mat)\n",
        "        else:\n",
        "            metadata = jbl.load(rbf_file)\n",
        "            centers = metadata['centers']\n",
        "            sigma = metadata['sigma']\n",
        "            n_hidden = metadata['neurons']\n",
        "            out_mat = self.out_matrix(X=X, n_hidden=n_hidden, centroids=centers, sigma_mat=sigma)[-1].reshape((1, n_hidden))\n",
        "            return tf.keras.models.load_model(rbf_ann_file).predict(out_mat)"
      ]
    }
  ]
}